{
 "cells": [
  {
   "cell_type": "code",
   "execution_count": 11,
   "metadata": {
    "colab": {
     "base_uri": "https://localhost:8080/"
    },
    "id": "7YsHNtPTHdg7",
    "outputId": "bd001a59-770a-4c80-daa9-909bba1e9dce",
    "tags": []
   },
   "outputs": [
    {
     "name": "stdout",
     "output_type": "stream",
     "text": [
      "[2.0, 13.0, 19.0, 3.0, 11.0, 4.0, 1.0, 14.0, 1.0, 6.0, 11.0, 18.0, 17.0, 20.0, 9.0, 18.0, 19.0, 3.0, 4.0, 17.0]\n",
      "[6.0, 13.0, 2.0, 11.0, 0.0, 1.0, 19.0, 17.0, 9.0, 4.0, 7.0, 17.0, 16.0, 17.0, 13.0, 10.0, 7.0, 11.0, 0.0, 1.0]\n",
      "[15.0, 19.0, 6.0, 7.0, 17.0, 5.0, 2.0, 15.0, 8.0, 5.0, 11.0, 11.0, 18.0, 4.0, 16.0, 2.0, 14.0, 9.0, 3.0, 9.0]\n",
      "[19.0, 1.0, 15.0, 3.0, 1.0, 16.0, 7.0, 1.0, 11.0, 13.0, 2.0, 19.0, 18.0, 13.0, 4.0, 11.0, 9.0, 1.0, 18.0, 17.0]\n",
      "[5.0, 8.0, 18.0, 14.0, 16.0, 16.0, 18.0, 19.0, 16.0, 16.0, 2.0, 20.0, 17.0, 3.0, 9.0, 3.0, 13.0, 8.0, 17.0, 0.0]\n",
      "[5.0, 17.0, 12.0, 4.0, 6.0, 9.0, 13.0, 10.0, 10.0, 17.0, 16.0, 14.0, 13.0, 10.0, 19.0, 15.0, 14.0, 18.0, 3.0, 0.0]\n",
      "[16.0, 3.0, 3.0, 14.0, 14.0, 8.0, 13.0, 19.0, 10.0, 1.0, 10.0, 11.0, 16.0, 5.0, 18.0, 17.0, 4.0, 4.0, 13.0, 7.0]\n",
      "[16.0, 9.0, 8.0, 8.0, 1.0, 5.0, 20.0, 6.0, 18.0, 3.0, 16.0, 16.0, 14.0, 14.0, 19.0, 11.0, 3.0, 13.0, 9.0, 4.0]\n",
      "[1.0, 4.0, 18.0, 6.0, 10.0, 3.0, 11.0, 16.0, 5.0, 0.0, 17.0, 0.0, 19.0, 18.0, 12.0, 9.0, 8.0, 15.0, 14.0, 17.0]\n",
      "[12.0, 16.0, 17.0, 4.0, 12.0, 10.0, 6.0, 17.0, 17.0, 2.0, 6.0, 1.0, 0.0, 11.0, 18.0, 10.0, 0.0, 15.0, 15.0, 5.0]\n",
      "[7.0, 17.0, 13.0, 7.0, 10.0, 3.0, 3.0, 18.0, 12.0, 18.0, 0.0, 14.0, 3.0, 1.0, 15.0, 3.0, 4.0, 20.0, 17.0, 14.0]\n",
      "[16.0, 1.0, 9.0, 9.0, 15.0, 2.0, 20.0, 4.0, 12.0, 2.0, 20.0, 16.0, 11.0, 9.0, 15.0, 20.0, 1.0, 17.0, 16.0, 3.0]\n",
      "[17.0, 9.0, 1.0, 16.0, 14.0, 9.0, 13.0, 12.0, 11.0, 13.0, 9.0, 12.0, 19.0, 13.0, 8.0, 0.0, 7.0, 7.0, 8.0, 5.0]\n",
      "[14.0, 5.0, 13.0, 0.0, 3.0, 8.0, 11.0, 15.0, 18.0, 13.0, 3.0, 11.0, 5.0, 8.0, 17.0, 9.0, 15.0, 14.0, 2.0, 0.0]\n",
      "[16.0, 19.0, 11.0, 17.0, 10.0, 6.0, 12.0, 15.0, 7.0, 3.0, 3.0, 15.0, 12.0, 15.0, 8.0, 4.0, 14.0, 16.0, 2.0, 19.0]\n",
      "[8.0, 18.0, 3.0, 15.0, 1.0, 10.0, 18.0, 10.0, 1.0, 17.0, 16.0, 18.0, 9.0, 12.0, 2.0, 6.0, 14.0, 15.0, 11.0, 2.0]\n",
      "[15.0, 3.0, 19.0, 3.0, 5.0, 0.0, 4.0, 16.0, 5.0, 14.0, 13.0, 2.0, 16.0, 15.0, 19.0, 16.0, 11.0, 6.0, 1.0, 19.0]\n",
      "[11.0, 19.0, 15.0, 8.0, 20.0, 6.0, 3.0, 19.0, 8.0, 15.0, 4.0, 1.0, 16.0, 1.0, 10.0, 9.0, 4.0, 8.0, 15.0, 16.0]\n",
      "[17.0, 1.0, 7.0, 19.0, 20.0, 0.0, 7.0, 4.0, 20.0, 14.0, 16.0, 15.0, 10.0, 9.0, 8.0, 14.0, 16.0, 15.0, 10.0, 15.0]\n",
      "[2.0, 13.0, 2.0, 14.0, 0.0, 13.0, 9.0, 18.0, 2.0, 5.0, 12.0, 9.0, 2.0, 16.0, 2.0, 15.0, 9.0, 15.0, 7.0, 7.0]\n",
      "[18.0, 11.0, 7.0, 0.0, 11.0, 1.0, 18.0, 20.0, 15.0, 20.0, 3.0, 3.0, 6.0, 8.0, 5.0, 2.0, 5.0, 11.0, 3.0, 17.0]\n",
      "[11.0, 9.0, 4.0, 1.0, 19.0, 3.0, 0.0, 10.0, 20.0, 5.0, 11.0, 2.0, 9.0, 10.0, 6.0, 12.0, 7.0, 5.0, 13.0, 11.0]\n",
      "[1.0, 3.0, 9.0, 11.0, 13.0, 2.0, 20.0, 15.0, 12.0, 9.0, 9.0, 15.0, 0.0, 20.0, 20.0, 4.0, 18.0, 14.0, 12.0, 17.0]\n",
      "[10.0, 9.0, 3.0, 12.0, 16.0, 8.0, 8.0, 12.0, 4.0, 19.0, 16.0, 15.0, 6.0, 5.0, 20.0, 11.0, 4.0, 4.0, 20.0, 17.0]\n",
      "[20.0, 5.0, 6.0, 8.0, 1.0, 11.0, 17.0, 15.0, 9.0, 12.0, 2.0, 2.0, 8.0, 18.0, 0.0, 10.0, 17.0, 17.0, 14.0, 7.0]\n",
      "[0.0, 18.0, 8.0, 9.0, 16.0, 15.0, 19.0, 1.0, 1.0, 14.0, 1.0, 3.0, 5.0, 13.0, 0.0, 6.0, 17.0, 10.0, 15.0, 14.0]\n",
      "[17.0, 13.0, 19.0, 9.0, 8.0, 0.0, 0.0, 14.0, 13.0, 12.0, 3.0, 5.0, 1.0, 19.0, 10.0, 8.0, 15.0, 1.0, 18.0, 18.0]\n",
      "[16.0, 3.0, 18.0, 19.0, 1.0, 14.0, 8.0, 18.0, 14.0, 14.0, 6.0, 15.0, 1.0, 8.0, 6.0, 7.0, 8.0, 9.0, 6.0, 18.0]\n",
      "[6.0, 10.0, 16.0, 3.0, 16.0, 15.0, 2.0, 17.0, 20.0, 0.0, 15.0, 2.0, 4.0, 11.0, 5.0, 3.0, 7.0, 1.0, 14.0, 15.0]\n",
      "[15.0, 10.0, 3.0, 15.0, 3.0, 6.0, 16.0, 16.0, 15.0, 3.0, 11.0, 2.0, 19.0, 19.0, 1.0, 8.0, 12.0, 2.0, 16.0, 18.0]\n",
      "[18.0, 17.0, 14.0, 11.0, 14.0, 19.0, 0.0, 1.0, 15.0, 0.0, 5.0, 11.0, 2.0, 3.0, 1.0, 17.0, 6.0, 18.0, 9.0, 18.0]\n",
      "[12.0, 6.0, 3.0, 6.0, 19.0, 12.0, 14.0, 14.0, 15.0, 17.0, 8.0, 16.0, 9.0, 5.0, 18.0, 1.0, 14.0, 20.0, 12.0, 13.0]\n",
      "[13.0, 0.0, 18.0, 1.0, 12.0, 2.0, 10.0, 6.0, 15.0, 13.0, 16.0, 12.0, 5.0, 11.0, 16.0, 20.0, 13.0, 14.0, 14.0, 18.0]\n",
      "[3.0, 20.0, 2.0, 18.0, 11.0, 8.0, 12.0, 9.0, 2.0, 11.0, 16.0, 4.0, 12.0, 10.0, 7.0, 11.0, 12.0, 16.0, 18.0, 19.0]\n",
      "[11.0, 8.0, 10.0, 16.0, 17.0, 10.0, 4.0, 4.0, 2.0, 1.0, 10.0, 10.0, 5.0, 13.0, 1.0, 10.0, 4.0, 11.0, 7.0, 10.0]\n",
      "[2.0, 0.0, 13.0, 17.0, 18.0, 20.0, 17.0, 3.0, 7.0, 8.0, 11.0, 11.0, 3.0, 11.0, 7.0, 4.0, 9.0, 16.0, 6.0, 3.0]\n",
      "[18.0, 20.0, 16.0, 6.0, 7.0, 3.0, 10.0, 8.0, 12.0, 14.0, 6.0, 5.0, 11.0, 17.0, 4.0, 15.0, 4.0, 1.0, 7.0, 14.0]\n",
      "[5.0, 18.0, 15.0, 4.0, 1.0, 9.0, 11.0, 16.0, 12.0, 19.0, 15.0, 16.0, 1.0, 1.0, 14.0, 15.0, 9.0, 4.0, 10.0, 16.0]\n",
      "[3.0, 19.0, 0.0, 1.0, 1.0, 4.0, 7.0, 19.0, 2.0, 7.0, 5.0, 14.0, 2.0, 20.0, 15.0, 4.0, 18.0, 5.0, 12.0, 2.0]\n",
      "[8.0, 6.0, 3.0, 12.0, 9.0, 3.0, 6.0, 6.0, 9.0, 9.0, 18.0, 9.0, 9.0, 13.0, 19.0, 13.0, 11.0, 20.0, 15.0, 0.0]\n",
      "[11.0, 10.0, 0.0, 7.0, 0.0, 12.0, 4.0, 6.0, 7.0, 15.0, 17.0, 11.0, 19.0, 8.0, 15.0, 10.0, 1.0, 9.0, 0.0, 8.0]\n",
      "[18.0, 18.0, 20.0, 13.0, 18.0, 13.0, 12.0, 14.0, 20.0, 13.0, 11.0, 3.0, 11.0, 12.0, 10.0, 10.0, 7.0, 5.0, 9.0, 12.0]\n",
      "[9.0, 7.0, 3.0, 2.0, 10.0, 14.0, 14.0, 12.0, 2.0, 6.0, 14.0, 8.0, 10.0, 20.0, 2.0, 16.0, 19.0, 11.0, 0.0, 14.0]\n",
      "[2.0, 3.0, 0.0, 4.0, 9.0, 20.0, 15.0, 1.0, 10.0, 5.0, 20.0, 9.0, 7.0, 13.0, 15.0, 19.0, 20.0, 3.0, 5.0, 20.0]\n",
      "[10.0, 9.0, 11.0, 12.0, 15.0, 12.0, 6.0, 10.0, 3.0, 19.0, 3.0, 20.0, 18.0, 10.0, 1.0, 6.0, 8.0, 6.0, 13.0, 14.0]\n",
      "[16.0, 5.0, 6.0, 7.0, 10.0, 4.0, 15.0, 14.0, 9.0, 14.0, 14.0, 16.0, 14.0, 1.0, 0.0, 13.0, 2.0, 14.0, 11.0, 8.0]\n",
      "[9.0, 20.0, 18.0, 9.0, 18.0, 5.0, 1.0, 9.0, 20.0, 1.0, 13.0, 6.0, 6.0, 17.0, 3.0, 1.0, 13.0, 5.0, 2.0, 20.0]\n",
      "[19.0, 6.0, 4.0, 20.0, 0.0, 9.0, 10.0, 15.0, 20.0, 12.0, 5.0, 3.0, 4.0, 8.0, 7.0, 3.0, 8.0, 1.0, 17.0, 5.0]\n",
      "[8.0, 19.0, 6.0, 3.0, 17.0, 0.0, 2.0, 19.0, 8.0, 4.0, 11.0, 3.0, 16.0, 15.0, 6.0, 17.0, 14.0, 8.0, 17.0, 15.0]\n",
      "[0.0, 13.0, 12.0, 20.0, 0.0, 3.0, 3.0, 12.0, 14.0, 1.0, 15.0, 12.0, 18.0, 3.0, 14.0, 2.0, 7.0, 1.0, 9.0, 19.0]\n"
     ]
    }
   ],
   "source": [
    "def load_data(fname):\n",
    "  \"\"\"\n",
    "  This function fetches numbers from a CSV file and creates the matrix as 2D list.\n",
    "  \"\"\"\n",
    "  ret_data = []\n",
    "  # File opening\n",
    "  inpfile = open(fname, 'r')\n",
    "  total_lines = inpfile.readlines()\n",
    "  for line in total_lines:\n",
    "\n",
    "    # Splitting to read the number in the file\n",
    "    l_separated = line.strip().split(',')\n",
    "    nums = []\n",
    "    for l in l_separated:\n",
    "        nums.append(float(l))\n",
    "    ret_data.append(nums)\n",
    "\n",
    "  # Closing the file\n",
    "  inpfile.close()\n",
    "  return ret_data\n",
    "\n",
    "\n",
    "A = load_data(\"data.csv\")\n",
    "for row in A:\n",
    "    print(row)"
   ]
  },
  {
   "cell_type": "markdown",
   "metadata": {
    "id": "wgtigFpj1J6D"
   },
   "source": [
    "\n",
    "# Initialization\n",
    "### Setting up the initial values of matrices B and C based on the provided formula."
   ]
  },
  {
   "cell_type": "code",
   "execution_count": 12,
   "metadata": {
    "id": "YIppibmh1AIJ",
    "tags": []
   },
   "outputs": [],
   "source": [
    "def mean_M(M):\n",
    "  \"\"\"\n",
    "  This function computes the mean of non-zero entries in a M.\n",
    "  It takes a M as input and returns the average of its non-zero values.\n",
    "  \"\"\"\n",
    "  total_sum = 0\n",
    "  non_zero = 0\n",
    "\n",
    "  for R in M:\n",
    "    for e in R:\n",
    "      if e != 0:\n",
    "        total_sum += e\n",
    "        non_zero += 1\n",
    "  if non_zero != 0 :\n",
    "    return total_sum / non_zero\n",
    "  else :\n",
    "    return 0\n",
    "\n",
    "def create_arrays(R, C, insert_value):\n",
    "  \"\"\"\n",
    "  This function creates a 2D array filled with a given value.\n",
    "  It takes the row count, column count, and the value to fill as inputs.\n",
    "  It returns the filled 2D array.\n",
    "  \"\"\"\n",
    "  filled_array = []\n",
    "  for row_num in range(R):\n",
    "    single_row = []\n",
    "    for col_num in range(C):\n",
    "      single_row.append(insert_value)\n",
    "    filled_array.append(single_row)\n",
    "  return filled_array\n",
    "\n",
    "def initial_setup(A, d):\n",
    "  \"\"\"\n",
    "  This function sets up the initial matrices B and C using a formula.\n",
    "  It takes the main A and number of latent features as inputs.\n",
    "  It returns matrices B and C.\n",
    "  \"\"\"\n",
    "  R = len(A)\n",
    "  if A:\n",
    "    C = len(A[0])\n",
    "  else:\n",
    "    C = 0;\n",
    "\n",
    "  insert_value = (mean_M(A) / d) ** 0.5\n",
    "\n",
    "  B = create_arrays(R, d, insert_value)\n",
    "  C = create_arrays(d, C, insert_value)\n",
    "\n",
    "  return B, C"
   ]
  },
  {
   "cell_type": "markdown",
   "metadata": {
    "id": "zQrhAqI21-tz"
   },
   "source": [
    "# Error Function"
   ]
  },
  {
   "cell_type": "code",
   "execution_count": 13,
   "metadata": {
    "id": "_PzX8o0n2BVQ",
    "tags": []
   },
   "outputs": [],
   "source": [
    "def non_zero(M):\n",
    "  \"\"\"\n",
    "  This function counts the non-zero elements in a given matrix.\n",
    "  It accepts a 2D matrix and outputs the count of non-zero elements.\n",
    "  \"\"\"\n",
    "  cnt = 0\n",
    "  for r in M:\n",
    "    for i in r:\n",
    "      if i != 0:\n",
    "        cnt += 1\n",
    "  return cnt\n",
    "\n",
    "def subtract_matrices(A, P):\n",
    "  \"\"\"\n",
    "  This function gets the difference between two matrices.\n",
    "  It takes in two matrices and gives their difference as output.\n",
    "  \"\"\"\n",
    "  res_diff = []\n",
    "  for i in range(len(A)):\n",
    "    difference = []\n",
    "    for j in range(len(A[0])):\n",
    "      difference.append(A[i][j] - P[i][j])\n",
    "    res_diff.append(difference)\n",
    "  return res_diff\n",
    "\n",
    "def calc_error(A, P):\n",
    "  \"\"\"\n",
    "  This function computes the error between two matrices.\n",
    "  It takes in the original and predicted matrices and outputs the error.\n",
    "  \"\"\"\n",
    "  no_zero = non_zero(A)\n",
    "  a_p_diff = subtract_matrices(A, P)\n",
    "\n",
    "  # Get squared difference for non-zero items in the original matrix\n",
    "  sum_diff_squares = 0\n",
    "  for i in range(len(A)):\n",
    "    for j in range(len(A[0])):\n",
    "      if A[i][j] != 0:\n",
    "        sum_diff_squares += a_p_diff[i][j] ** 2\n",
    "\n",
    "  error = (sum_diff_squares / no_zero) ** 0.5\n",
    "  return error"
   ]
  },
  {
   "cell_type": "markdown",
   "metadata": {
    "id": "2CPxbnC92pxA"
   },
   "source": [
    "# Updating the Matrices"
   ]
  },
  {
   "cell_type": "code",
   "execution_count": 14,
   "metadata": {
    "id": "N2UaMvvU2qGa",
    "tags": []
   },
   "outputs": [],
   "source": [
    "def adjust_B(M, B, C):\n",
    "  \"\"\"\n",
    "  This function tweaks the B matrix using a set formula.\n",
    "  It takes in the main M, the current B, and C matrices.\n",
    "  It outputs the adjusted B matrix.\n",
    "  \"\"\"\n",
    "  row = len(B)\n",
    "  feats = len(B[0])\n",
    "  column = len(C[0])\n",
    "\n",
    "  for r_no in range(row):\n",
    "    for f_no in range(feats):\n",
    "      total_sum_num = 0\n",
    "      for c_no in range(column):\n",
    "        tmp_num = 0\n",
    "        for k in range(feats):\n",
    "          if k != f_no:\n",
    "            tmp_num += B[r_no][k] * C[k][c_no]\n",
    "        total_sum_num += C[f_no][c_no] * (M[r_no][c_no] - tmp_num)\n",
    "\n",
    "      total_deno_sum = 0\n",
    "      for c_no in range(column):\n",
    "          total_deno_sum += C[f_no][c_no] ** 2\n",
    "      B[r_no][f_no] = total_sum_num / total_deno_sum\n",
    "\n",
    "  return B\n",
    "\n",
    "def adjust_C(M, B, C):\n",
    "  \"\"\"\n",
    "  This function tweaks the C matrix using a set formula.\n",
    "  It accepts the main M, B matrix, and current C matrix.\n",
    "  It provides the adjusted C matrix.\n",
    "  \"\"\"\n",
    "  feats = len(C)\n",
    "  column = len(C[0])\n",
    "  row = len(B)\n",
    "\n",
    "  for f_no in range(feats):\n",
    "    for c_no in range(column):\n",
    "      total_sum_num = 0\n",
    "      for r_no in range(row):\n",
    "        tmp_num = 0\n",
    "        for k in range(feats):\n",
    "          if k != f_no:\n",
    "            tmp_num += B[r_no][k] * C[k][c_no]\n",
    "        total_sum_num += B[r_no][f_no] * (M[r_no][c_no] - tmp_num)\n",
    "\n",
    "      total_deno_sum = 0\n",
    "      for r_no in range(row):\n",
    "          total_deno_sum += B[r_no][f_no] ** 2\n",
    "\n",
    "      C[f_no][c_no] = total_sum_num / total_deno_sum\n",
    "\n",
    "  return C\n"
   ]
  },
  {
   "cell_type": "markdown",
   "metadata": {
    "id": "OQhQ_aSTk0Gr"
   },
   "source": [
    "# Matrix Multiplication"
   ]
  },
  {
   "cell_type": "code",
   "execution_count": 15,
   "metadata": {
    "id": "K2MJ5Hgskz8w",
    "tags": []
   },
   "outputs": [],
   "source": [
    "def matrix_product(M1, M2):\n",
    "  \"\"\"\n",
    "  This function is to multiply two matrices\n",
    "  \"\"\"\n",
    "\n",
    "  # Finding out how big the matrices are\n",
    "  r1, c1 = len(M1), len(M1[0])\n",
    "  r2, c2 = len(M2), len(M2[0])\n",
    "\n",
    "  # Check if these matrices can be multiplied together\n",
    "  if c1 != r2:\n",
    "    print(\"Hey, these matrices can't be multiplied. Check their sizes!\")\n",
    "    return\n",
    "\n",
    "  # Let's make a blank matrix to store our answer\n",
    "  ret = []\n",
    "  for r in range(r1):\n",
    "    row_add = []\n",
    "    for c in range(c2):\n",
    "      row_add.append(0)\n",
    "    ret.append(row_add)\n",
    "\n",
    "  # Time to do the actual multiplication and fill up our answer matrix\n",
    "  for r in range(r1):\n",
    "    for c in range(c2):\n",
    "      cell_sum = 0\n",
    "      for k in range(c1):\n",
    "        cell_sum += M1[r][k] * M2[k][c]\n",
    "      ret[r][c] = cell_sum\n",
    "\n",
    "  return ret"
   ]
  },
  {
   "cell_type": "markdown",
   "metadata": {
    "id": "PAETPuDi2-YW"
   },
   "source": [
    "# Iterative Approach for finding the best fit with Randomization"
   ]
  },
  {
   "cell_type": "code",
   "execution_count": 16,
   "metadata": {
    "id": "Uu_sFh9D20SZ",
    "tags": []
   },
   "outputs": [],
   "source": [
    "import random\n",
    "def random_update(M, d, max_runs=100000, epsilon=0.01):\n",
    "    \"\"\"\n",
    "    This function fine-tunes matrices B and C using a randomized approach.\n",
    "    It gets the data matrix, number of features, max runs, and a tiny change value.\n",
    "    The function outputs the tweaked B and C matrices along with the final error.\n",
    "    \"\"\"\n",
    "    B, C = initial_setup(M, d)\n",
    "    error0 = calc_error(M, matrix_product(B, C))\n",
    "    error_recent = error0\n",
    "    cnt = 0\n",
    "\n",
    "    while cnt < max_runs:\n",
    "      # Decide to tweak either B or C\n",
    "      choice = random.choice(['B', 'C'])\n",
    "      if choice == 'B':\n",
    "        B = adjust_B(M, B, C)\n",
    "      else:\n",
    "        C = adjust_C(M, B, C)\n",
    "\n",
    "      error_now = calc_error(M, matrix_product(B, C))\n",
    "\n",
    "      if (error_recent - error_now) / error0 <= epsilon:\n",
    "        break\n",
    "\n",
    "      error_recent = error_now\n",
    "      cnt += 1\n",
    "\n",
    "    return B, C, error_now\n"
   ]
  },
  {
   "cell_type": "markdown",
   "metadata": {
    "id": "UevMjlxPQW6F"
   },
   "source": [
    "# Iterative Approach for finding the best fit with Ordering"
   ]
  },
  {
   "cell_type": "code",
   "execution_count": 17,
   "metadata": {
    "id": "XaMSzVl7QWA3",
    "tags": []
   },
   "outputs": [],
   "source": [
    "def ordered_update(data_mat, feat_num, max_runs=100000, epsilon=0.01):\n",
    "  \"\"\"\n",
    "  This function fine-tunes matrices B and C in a set order.\n",
    "  It takes the data matrix, number of features, max runs, and a small value.\n",
    "  It outputs the tweaked B, C matrices and the final error.\n",
    "  \"\"\"\n",
    "  B, C = initial_setup(data_mat, feat_num)\n",
    "  error0 = calc_error(data_mat, matrix_product(B, C))\n",
    "  error_recent = error0\n",
    "  run_count = 0\n",
    "\n",
    "  while run_count < max_runs:\n",
    "    # Tweak B then C in turns\n",
    "    if run_count % 2 == 0:\n",
    "      B = adjust_B(data_mat, B, C)\n",
    "    else:\n",
    "      C = adjust_C(data_mat, B, C)\n",
    "\n",
    "    error_now = calc_error(data_mat, matrix_product(B, C))\n",
    "\n",
    "    # If the error changes very little, stop\n",
    "    if (error_recent - error_now) / error0 <= epsilon:\n",
    "      break\n",
    "\n",
    "    error_recent = error_now\n",
    "    run_count += 1\n",
    "\n",
    "  return B, C, error_now\n"
   ]
  },
  {
   "cell_type": "markdown",
   "metadata": {
    "id": "N2XNFFegRZ98"
   },
   "source": [
    "# Analysis"
   ]
  },
  {
   "cell_type": "code",
   "execution_count": 18,
   "metadata": {
    "colab": {
     "base_uri": "https://localhost:8080/"
    },
    "id": "5BjM5bTtRZY3",
    "outputId": "160e97e4-4f7c-40f6-fabd-2645e6c280cf",
    "tags": []
   },
   "outputs": [
    {
     "name": "stdout",
     "output_type": "stream",
     "text": [
      "Randomized Results:\n",
      "{(2, 0.01): 5.73977850545356, (2, 0.03): 5.749622487607335, (2, 0.05): 5.73977850545356, (2, 0.1): 5.73977850545356, (2, 0.2): 5.749622487607335, (2, 0.3): 5.73977850545356, (3, 0.01): 5.73977850545356, (3, 0.03): 5.73977850545356, (3, 0.05): 5.73977850545356, (3, 0.1): 5.7496224876073345, (3, 0.2): 5.73977850545356, (3, 0.3): 5.7496224876073345, (4, 0.01): 5.73977850545356, (4, 0.03): 5.73977850545356, (4, 0.05): 5.749622487607335, (4, 0.1): 5.73977850545356, (4, 0.2): 5.749622487607335, (4, 0.3): 5.749622487607335, (5, 0.01): 5.749622487607335, (5, 0.03): 5.73977850545356, (5, 0.05): 5.749622487607335, (5, 0.1): 5.749622487607335, (5, 0.2): 5.73977850545356, (5, 0.3): 5.73977850545356, (6, 0.01): 5.7496224876073345, (6, 0.03): 5.73977850545356, (6, 0.05): 5.7496224876073345, (6, 0.1): 5.7496224876073345, (6, 0.2): 5.73977850545356, (6, 0.3): 5.7496224876073345, (7, 0.01): 5.73977850545356, (7, 0.03): 5.73977850545356, (7, 0.05): 5.749622487607335, (7, 0.1): 5.73977850545356, (7, 0.2): 5.749622487607335, (7, 0.3): 5.73977850545356, (8, 0.01): 5.73977850545356, (8, 0.03): 5.749622487607335, (8, 0.05): 5.73977850545356, (8, 0.1): 5.749622487607335, (8, 0.2): 5.73977850545356, (8, 0.3): 5.73977850545356, (9, 0.01): 5.749622487607335, (9, 0.03): 5.749622487607335, (9, 0.05): 5.73977850545356, (9, 0.1): 5.73977850545356, (9, 0.2): 5.73977850545356, (9, 0.3): 5.73977850545356, (10, 0.01): 5.749622487607336, (10, 0.03): 5.749622487607336, (10, 0.05): 5.749622487607336, (10, 0.1): 5.73977850545356, (10, 0.2): 5.73977850545356, (10, 0.3): 5.73977850545356, (11, 0.01): 5.749622487607335, (11, 0.03): 5.73977850545356, (11, 0.05): 5.73977850545356, (11, 0.1): 5.749622487607335, (11, 0.2): 5.73977850545356, (11, 0.3): 5.73977850545356, (12, 0.01): 5.749622487607335, (12, 0.03): 5.73977850545356, (12, 0.05): 5.73977850545356, (12, 0.1): 5.749622487607335, (12, 0.2): 5.73977850545356, (12, 0.3): 5.749622487607335, (13, 0.01): 5.73977850545356, (13, 0.03): 5.749622487607335, (13, 0.05): 5.749622487607335, (13, 0.1): 5.749622487607335, (13, 0.2): 5.73977850545356, (13, 0.3): 5.749622487607335, (14, 0.01): 5.73977850545356, (14, 0.03): 5.749622487607335, (14, 0.05): 5.73977850545356, (14, 0.1): 5.73977850545356, (14, 0.2): 5.749622487607335, (14, 0.3): 5.73977850545356, (15, 0.01): 5.73977850545356, (15, 0.03): 5.749622487607335, (15, 0.05): 5.749622487607335, (15, 0.1): 5.73977850545356, (15, 0.2): 5.73977850545356, (15, 0.3): 5.73977850545356}\n",
      "\n",
      "Ordered Results:\n",
      "{(2, 0.01): 5.73977850545356, (2, 0.03): 5.73977850545356, (2, 0.05): 5.73977850545356, (2, 0.1): 5.73977850545356, (2, 0.2): 5.73977850545356, (2, 0.3): 5.73977850545356, (3, 0.01): 5.73977850545356, (3, 0.03): 5.73977850545356, (3, 0.05): 5.73977850545356, (3, 0.1): 5.73977850545356, (3, 0.2): 5.73977850545356, (3, 0.3): 5.73977850545356, (4, 0.01): 5.73977850545356, (4, 0.03): 5.73977850545356, (4, 0.05): 5.73977850545356, (4, 0.1): 5.73977850545356, (4, 0.2): 5.73977850545356, (4, 0.3): 5.73977850545356, (5, 0.01): 5.73977850545356, (5, 0.03): 5.73977850545356, (5, 0.05): 5.73977850545356, (5, 0.1): 5.73977850545356, (5, 0.2): 5.73977850545356, (5, 0.3): 5.73977850545356, (6, 0.01): 5.73977850545356, (6, 0.03): 5.73977850545356, (6, 0.05): 5.73977850545356, (6, 0.1): 5.73977850545356, (6, 0.2): 5.73977850545356, (6, 0.3): 5.73977850545356, (7, 0.01): 5.73977850545356, (7, 0.03): 5.73977850545356, (7, 0.05): 5.73977850545356, (7, 0.1): 5.73977850545356, (7, 0.2): 5.73977850545356, (7, 0.3): 5.73977850545356, (8, 0.01): 5.73977850545356, (8, 0.03): 5.73977850545356, (8, 0.05): 5.73977850545356, (8, 0.1): 5.73977850545356, (8, 0.2): 5.73977850545356, (8, 0.3): 5.73977850545356, (9, 0.01): 5.73977850545356, (9, 0.03): 5.73977850545356, (9, 0.05): 5.73977850545356, (9, 0.1): 5.73977850545356, (9, 0.2): 5.73977850545356, (9, 0.3): 5.73977850545356, (10, 0.01): 5.73977850545356, (10, 0.03): 5.73977850545356, (10, 0.05): 5.73977850545356, (10, 0.1): 5.73977850545356, (10, 0.2): 5.73977850545356, (10, 0.3): 5.73977850545356, (11, 0.01): 5.73977850545356, (11, 0.03): 5.73977850545356, (11, 0.05): 5.73977850545356, (11, 0.1): 5.73977850545356, (11, 0.2): 5.73977850545356, (11, 0.3): 5.73977850545356, (12, 0.01): 5.73977850545356, (12, 0.03): 5.73977850545356, (12, 0.05): 5.73977850545356, (12, 0.1): 5.73977850545356, (12, 0.2): 5.73977850545356, (12, 0.3): 5.73977850545356, (13, 0.01): 5.73977850545356, (13, 0.03): 5.73977850545356, (13, 0.05): 5.73977850545356, (13, 0.1): 5.73977850545356, (13, 0.2): 5.73977850545356, (13, 0.3): 5.73977850545356, (14, 0.01): 5.73977850545356, (14, 0.03): 5.73977850545356, (14, 0.05): 5.73977850545356, (14, 0.1): 5.73977850545356, (14, 0.2): 5.73977850545356, (14, 0.3): 5.73977850545356, (15, 0.01): 5.73977850545356, (15, 0.03): 5.73977850545356, (15, 0.05): 5.73977850545356, (15, 0.1): 5.73977850545356, (15, 0.2): 5.73977850545356, (15, 0.3): 5.73977850545356}\n"
     ]
    }
   ],
   "source": [
    "def run_analysis(data):\n",
    "    \"\"\"\n",
    "    This function runs matrix refinement methods for various settings.\n",
    "    It takes the main data matrix.\n",
    "    It returns two dictionaries with error values for randomized and sequence methods.\n",
    "    \"\"\"\n",
    "\n",
    "    # Setting up the possible values for d and epsilon\n",
    "    dlist = list(range(2, 16))\n",
    "    epsilon = [1/100, 3/100, 1/20, 1/10, 2/10, 3/10]\n",
    "\n",
    "    randop = {}\n",
    "    seqop = {}\n",
    "\n",
    "    # Analyzing using the random method\n",
    "    for d in dlist:\n",
    "        for eps in epsilon:\n",
    "            B_rand, C_rand, error_rand = random_update(data, d, 100000, eps)\n",
    "            randop[(d, eps)] = error_rand\n",
    "\n",
    "    # Analyzing using the sequence method\n",
    "    for d in dlist:\n",
    "        for eps in epsilon:\n",
    "            B_ord, C_ord, error_ord = ordered_update(data, d, 100000, eps)\n",
    "            seqop[(d, eps)] = error_ord\n",
    "\n",
    "    return randop, seqop\n",
    "\n",
    "randomized_results, ordered_results = run_analysis(A)\n",
    "\n",
    "# Printing the results\n",
    "print(\"Randomized Results:\")\n",
    "print(randomized_results)\n",
    "\n",
    "print(\"\\nOrdered Results:\")\n",
    "print(ordered_results)\n"
   ]
  },
  {
   "cell_type": "markdown",
   "metadata": {
    "id": "Cnds34BaRvEe"
   },
   "source": [
    "# Final Output"
   ]
  },
  {
   "cell_type": "code",
   "execution_count": 19,
   "metadata": {
    "colab": {
     "base_uri": "https://localhost:8080/"
    },
    "id": "kNCPfd9zRvcN",
    "outputId": "0934751f-e654-4119-8561-f49e21aeaee0",
    "tags": []
   },
   "outputs": [
    {
     "name": "stdout",
     "output_type": "stream",
     "text": [
      "Best Method: Ordering\n",
      "Best d: 2\n",
      "Best epsilon: 0.01\n",
      "Matrix B: \n",
      "[[2.2946994767319167, 2.2901510139435497], [1.6615534565910193, 2.290151013943549], [1.9890427773535526, 2.2901510139435493], [2.054540641506059, 2.2901510139435497], [2.9060128754886465, 2.290151013943549], [2.6221887974944504, 2.2901510139435493], [2.207368991195241, 2.2901510139435497], [2.3601973408844237, 2.2901510139435497], [2.1418711270427346, 2.2901510139435497], [1.9453775345852147, 2.2901510139435497], [2.0545406415060588, 2.2901510139435497], [2.4693604478052675, 2.29015101394355], [2.1418711270427346, 2.2901510139435497], [1.7270513207435259, 2.2901510139435497], [2.6003561761102807, 2.290151013943551], [2.2073689911952417, 2.290151013943549], [2.120038505658566, 2.290151013943549], [2.251034233963579, 2.2901510139435497], [2.8841802541044768, 2.29015101394355], [1.4650598641334989, 2.29015101394355], [1.7270513207435256, 2.2901510139435493], [1.3777293785968239, 2.290151013943549], [2.6003561761102807, 2.29015101394355], [2.4911930691894373, 2.2901510139435493], [2.0545406415060583, 2.29015101394355], [1.7488839421276945, 2.2901510139435493], [2.1418711270427346, 2.2901510139435497], [2.2728668553477482, 2.290151013943549], [1.6833860779751877, 2.29015101394355], [2.294699476731917, 2.290151013943549], [2.0545406415060588, 2.2901510139435497], [2.8186823899519697, 2.2901510139435497], [2.709519283031126, 2.2901510139435493], [2.5348583119577746, 2.2901510139435497], [1.2903988930601482, 2.2901510139435497], [1.7707165635118636, 2.29015101394355], [2.03270802012189, 2.2901510139435497], [2.316532098116086, 2.2901510139435493], [1.2030684075234725, 2.2901510139435497], [2.0327080201218903, 2.2901510139435497], [1.4213946213651616, 2.2901510139435497], [3.146171710714503, 2.2901510139435497], [1.9235449132010454, 2.29015101394355], [2.076373262890228, 2.2901510139435493], [2.2073689911952417, 2.290151013943549], [1.9235449132010458, 2.2901510139435497], [1.989042777353553, 2.2901510139435484], [1.5523903496701745, 2.2901510139435493], [2.251034233963579, 2.2901510139435497], [1.596055592438513, 2.290151013943549]]\n",
      "Matrix C:\n",
      "[[2.2901510139435493, 2.2901510139435493, 2.2901510139435493, 2.2901510139435493, 2.2901510139435493, 2.2901510139435493, 2.2901510139435493, 2.2901510139435493, 2.2901510139435493, 2.2901510139435493, 2.2901510139435493, 2.2901510139435493, 2.2901510139435493, 2.2901510139435493, 2.2901510139435493, 2.2901510139435493, 2.2901510139435493, 2.2901510139435493, 2.2901510139435493, 2.2901510139435493], [2.2901510139435493, 2.2901510139435493, 2.2901510139435493, 2.2901510139435493, 2.2901510139435493, 2.2901510139435493, 2.2901510139435493, 2.2901510139435493, 2.2901510139435493, 2.2901510139435493, 2.2901510139435493, 2.2901510139435493, 2.2901510139435493, 2.2901510139435493, 2.2901510139435493, 2.2901510139435493, 2.2901510139435493, 2.2901510139435493, 2.2901510139435493, 2.2901510139435493]]\n",
      "Error:\n",
      "5.73977850545356\n"
     ]
    }
   ],
   "source": [
    "def min_key(data_dict):\n",
    "  \"\"\"\n",
    "  This function locates the key with the smallest associated value in a dictionary.\n",
    "  It takes in a dictionary as its argument.\n",
    "  It returns the key linked to the minimum value.\n",
    "  \"\"\"\n",
    "  min = float('inf')  # Start with a very large number\n",
    "  bestkey = None\n",
    "\n",
    "  for key, value in data_dict.items():\n",
    "    if value < min:\n",
    "      min = value\n",
    "      bestkey = key\n",
    "\n",
    "  return bestkey\n",
    "\n",
    "def best_setup(rand_res, ord_res, A):\n",
    "  \"\"\"\n",
    "  This function figures out the best d and epsilon combo based on error.\n",
    "  It takes the random results, ordered results, and the main data matrix as input.\n",
    "  It returns the best method used, the top d and epsilon combo, and the refined B and C matrices.\n",
    "  \"\"\"\n",
    "\n",
    "  # Getting the best d and epsilon combinations for both methods\n",
    "  best_rand = min_key(rand_res)\n",
    "  best_ord = min_key(ord_res)\n",
    "\n",
    "  # Extracting the smallest error for both methods\n",
    "  error_rand = rand_res[best_rand]\n",
    "  error_ord = ord_res[best_ord]\n",
    "  # Deciding which method yielded the best results and getting the matrices\n",
    "  if error_rand < error_ord:\n",
    "    chosen_way = \"Random\"\n",
    "    best_d, best_eps = best_rand\n",
    "    opt_B, opt_C, _ = random_update(A, best_d, 100000, best_eps)\n",
    "    \n",
    "  else:\n",
    "    chosen_way = \"Ordering\"\n",
    "    best_d, best_eps = best_ord\n",
    "    opt_B, opt_C, _ = ordered_update(A, best_d, 100000, best_eps)\n",
    "\n",
    "  return chosen_way, best_d, best_eps, opt_B, opt_C\n",
    "\n",
    "# Finding out the top setup and matrices\n",
    "method_used, best_d, best_epsilon, final_B, final_C = best_setup(randomized_results, ordered_results, A)\n",
    "print(\"Best Method:\",method_used)\n",
    "print(\"Best d:\",best_d)\n",
    "print(\"Best epsilon:\",best_epsilon)\n",
    "print(\"Matrix B: \")\n",
    "print(final_B)\n",
    "print(\"Matrix C:\")\n",
    "print(final_C)\n",
    "print(\"Error:\")\n",
    "print(calc_error(A, matrix_product(final_B, final_C)))"
   ]
  },
  {
   "cell_type": "code",
   "execution_count": null,
   "metadata": {},
   "outputs": [],
   "source": []
  },
  {
   "cell_type": "code",
   "execution_count": null,
   "metadata": {},
   "outputs": [],
   "source": []
  },
  {
   "cell_type": "code",
   "execution_count": null,
   "metadata": {},
   "outputs": [],
   "source": []
  },
  {
   "cell_type": "code",
   "execution_count": null,
   "metadata": {},
   "outputs": [],
   "source": []
  }
 ],
 "metadata": {
  "colab": {
   "provenance": []
  },
  "kernelspec": {
   "display_name": "Python 3 (ipykernel)",
   "language": "python",
   "name": "python3"
  },
  "language_info": {
   "codemirror_mode": {
    "name": "ipython",
    "version": 3
   },
   "file_extension": ".py",
   "mimetype": "text/x-python",
   "name": "python",
   "nbconvert_exporter": "python",
   "pygments_lexer": "ipython3",
   "version": "3.10.10"
  }
 },
 "nbformat": 4,
 "nbformat_minor": 4
}
